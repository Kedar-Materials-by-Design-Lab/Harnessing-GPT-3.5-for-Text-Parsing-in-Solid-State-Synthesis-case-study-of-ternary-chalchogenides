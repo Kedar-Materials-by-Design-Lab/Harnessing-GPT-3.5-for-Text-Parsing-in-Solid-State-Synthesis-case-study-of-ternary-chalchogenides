{
 "cells": [
  {
   "cell_type": "code",
   "execution_count": 2,
   "id": "c2c37ddc",
   "metadata": {},
   "outputs": [],
   "source": [
    "#import libraries\n",
    "import openai\n",
    "import os"
   ]
  },
  {
   "cell_type": "code",
   "execution_count": 3,
   "id": "72df0967",
   "metadata": {},
   "outputs": [],
   "source": [
    "#define query to open ai\n",
    "openai.api_key = \"Your Key\"\n",
    "def get_completion(prompt):\n",
    "    messages = [{\"role\": \"user\", \"content\": prompt}]\n",
    "    response = openai.ChatCompletion.create(\n",
    "        model=\"gpt-3.5-turbo\",\n",
    "        messages=messages,\n",
    "        temperature=0, # this is the degree of randomness of the model's output\n",
    "    )\n",
    "    return response.choices[0].message[\"content\"]"
   ]
  },
  {
   "cell_type": "code",
   "execution_count": 6,
   "id": "da0ab73f",
   "metadata": {},
   "outputs": [
    {
     "name": "stdout",
     "output_type": "stream",
     "text": [
      "| End product | Base | Dopant | Dopant Category | StartingTemp | Primary Ramp Time (h) | Primary Melt Temp (K) | Primary Melt Time (h) | Secondary Ramp Time (h) | Secondary Melt Temp (K) | Secondary Melt Time (h) | Anneal Temp (K) | Anneal Time (h) | Cooling type | Pure Phase | Details |\n",
      "|-------------|------|--------|-----------------|---------------|-----------------------|-----------------------|-----------------------|-------------------------|-------------------------|-------------------------|-----------------|-----------------|--------------|------------|---------|\n",
      "| Cu1-xNixInTe2 | Cu, In, Te | NiTe2 | NA | 298 K | NA | NA | NA | NA | NA | NA | 923 K | 1 week | quench in air | NA | Polycrystalline samples synthesized from a mixture of pure elements and compounds. NiTe2 synthesized separately by heating stoichiometric mixtures of Ni and Te. Powdered NiTe2 mixed with Cu, In, and Te in stoichiometric ratio. Synthesis carried out in evacuated, sealed graphitized quartz ampoules. |\n",
      "| NiTe2 | Ni, Te | NA | NA | 298 K | NA | 1273 K | 2 hours | NA | NA | NA | NA | NA | NA | YES | Synthesized by heating stoichiometric mixtures of Ni and Te to 1273 K for 2 hours in evacuated quartz ampoules. Powdered material used in the synthesis of Cu1-xNixInTe2. |\n",
      "| Cu1-xNixInTe2 | Cu, In, Te | NA | NA | 298 K | 10 h | 1173 K | 12 h | NA | NA | NA | 923 K | 1 week | quench in air | YES | Synthesis carried out in evacuated, sealed graphitized quartz ampoules. Ampoules heated to 1173 K over 10 h, maintained at this temperature for 12 h, cooled to 923 K at a rate of 5 K/min, annealed at 923 K for one week, and finally quenched in air. |\n",
      "| NA | NA | NA | NA | NA | NA | NA | NA | NA | NA | NA | 823 K | 1 h | NA | NA | Hot-pressed at 823 K and 70 MPa for 1 h to reach ≥95% of theoretical (X-ray) densities. |\n",
      "| NA | NA | NA | NA | NA | NA | NA | NA | NA | NA | NA | 773 K | 5 days | NA | NA | Hot-pressed samples annealed in a sealed quartz ampule under an argon atmosphere at 773 K for 5 days to reach homogenous distribution of the dopant and stabilize physical properties. |\n"
     ]
    }
   ],
   "source": [
    "#intuitive and reasoning prompt, all at once \n",
    "text = f\"\"\"\n",
    "Polycrystalline samples of the composition Cu1-xNixInTe2 with nominal x values between 0 and 0.05 were prepared utilizing solid-state reactions. Polycrystalline samples were synthesized from a mixture of pure elements and compounds, Cu (4 N shots), NiTe2 (synthesized), In (5 N ingot) and Te (5 N chunks). The synthesis of NiTe2 was carried out by heating stoichiometric mixtures of 5 N Ni and Te to 1273 K for 2 hours in evacuated quartz ampoules. This material was powdered and mixed with Cu, In and Te in the ratio corresponding to the stoichiometry Cu1-xNixInTe2 (x = 0, 0.005, 0.01, 0.015, 0.02, 0.03, 0.04 and 0.05). The synthesis of the polycrystalline products were carried out in evacuated (10^-3 Pa), sealed graphitized quartz ampoules. The ampoules were heated to 1173 K over 10 h, maintained at this temperature for 12 h, cooled to 923 K at the rate of 5 K/min, annealed at 923 K for one week and finally quenched in air. The products were powdered for 1 min in a vibrating mill under hexane and identified by X-ray diffraction (XRD). The samples for physical measurements were hot-pressed at 823 K and 70 MPa for 1 h. Compacted disc-shaped samples (diameter 12 mm and thickness ca 2 mm) reached ≥95% of theoretical (X-ray) densities of the prepared compounds. To reach the homogenous distribution of the dopant and to stabilize the physical properties, the hot-pressed samples were annealed in a sealed quartz ampule under an argon atmosphere at T=773 K for 5 days.\n",
    "\"\"\"\n",
    "prompt = f\"\"\"\n",
    "Similar to the example, extract the synthesis information from each paragraph and report it as a table with the following columns and synthesis details. \n",
    "\n",
    "End product\n",
    "Base - base reagents, molar ratios (report the specific x/y/z values if given)\n",
    "Dopant - Element such as Ni, Ce, Hg, etc...\n",
    "Dopant Category - n-type, p-type or intrinsic doping\n",
    "StartingTemp - room temperature (298 K) if not specified \n",
    "Primary Ramp Time (h) - ramp time to reach primary temperature in hour\n",
    "Primary Melt Temp (K) - the maximum temperature before reaching the peak of the experiment in K\n",
    "Primary Melt Time (h) - the duration of the primary temperature in hour\n",
    "Secondary Ramp Time (h)- the time taken to reach the peak temperature of the experiment in hour\n",
    "Secondary Melt Temp (K) - the peak temperature of the whole experiment setup in K\n",
    "Secondary Melt Time (h) - the duration of the secondary temperature in hour\n",
    "Anneal Temp (K) - the temperature of the annealing in K\n",
    "Anneal Time (h) - the duration of the annealing in hour\n",
    "Cooling type - type of cooling e.g. quench/room/furnace\n",
    "Pure Phase - YES/No\n",
    "Details - other information that was extracted but not included in previous columns, excluding characterization/scanning information\n",
    "\n",
    "If the information is not provided, put NA. If there are multiple steps of a similar nature, report them as seperate processes in the same cell (for example, first heating as Heating1 and second heating as Heating2).\n",
    "```{text}```\n",
    "\"\"\"\n",
    "response = get_completion(prompt)\n",
    "print(response)"
   ]
  },
  {
   "cell_type": "code",
   "execution_count": 8,
   "id": "2e5cf450",
   "metadata": {},
   "outputs": [
    {
     "name": "stdout",
     "output_type": "stream",
     "text": [
      "Base\t\tDopant\tDopant Category\tStartingTemp\tPrimary Ramp Time (h)\tPrimary Melt Temp (K)\tPrimary Melt Time (h)\tSecondary Ramp Time (h)\tSecondary Melt Temp (K)\tSecondary Melt Time (h)\tAnneal Temp (K)\tAnneal Time (h)\tCooling type (quench/room/furnace)\tDensification Technique\tDensification Time (min)\tDensification Temp (K)\tDensification Pressure (MPa)\tPost Annealing Temp (K)\tPost Annealing Time (h)\tComments\tPure Phase\n",
      "CuNiInTe2\t\tNi\tp-type\t298\t0\t298\t0\t10\t1173\t12\t923\t168\troom cooling\tHot Press\t60\t823\t70\t773\t120\t\tNo\n"
     ]
    }
   ],
   "source": [
    "#Guided prompt with examples\n",
    "text = f\"\"\"\n",
    "Polycrystalline samples of the composition Cu1-xNixInTe2 with nominal x values between 0 and 0.05 were prepared utilizing solid-state reactions. Polycrystalline samples were synthesized from a mixture of pure elements and compounds, Cu (4 N shots), NiTe2 (synthesized), In (5 N ingot) and Te (5 N chunks). The synthesis of NiTe2 was carried out by heating stoichiometric mixtures of 5 N Ni and Te to 1273 K for 2 hours in evacuated quartz ampoules. This material was powdered and mixed with Cu, In and Te in the ratio corresponding to the stoichiometry Cu1-xNixInTe2 (x = 0, 0.005, 0.01, 0.015, 0.02, 0.03, 0.04 and 0.05). The synthesis of the polycrystalline products were carried out in evacuated (10^-3 Pa), sealed graphitized quartz ampoules. The ampoules were heated to 1173 K over 10 h, maintained at this temperature for 12 h, cooled to 923 K at the rate of 5 K/min, annealed at 923 K for one week and finally quenched in air. The products were powdered for 1 min in a vibrating mill under hexane and identified by X-ray diffraction (XRD). The samples for physical measurements were hot-pressed at 823 K and 70 MPa for 1 h. Compacted disc-shaped samples (diameter 12 mm and thickness ca 2 mm) reached ≥95% of theoretical (X-ray) densities of the prepared compounds. To reach the homogenous distribution of the dopant and to stabilize the physical properties, the hot-pressed samples were annealed in a sealed quartz ampule under an argon atmosphere at T=773 K for 5 days.\n",
    "\"\"\"\n",
    "prompt = f\"\"\"\n",
    "I am trying to extract synthesis information without any characterization and measurement data from paragraphs. I want you to help me do it. I will give you an example. \n",
    "\n",
    "Paragraph: Polycrystalline samples of the composition CuIn1-xHgxTe2 with nominal x values between 0 and 0.21 have been prepared using a solid-state reaction. Polycrystalline samples were synthesized from mixtures of pure elements, Cu (4N shots), In (5N ingot), Hg (4N), and Te (5N chunks) all Sigma-Aldrich. The synthesis of polycrystalline products was carried out in evacuated sealed graphitized quartz ampoules. The ampoules were heated to 1173 K over 10 h, kept at this temperature for 12 h, cooled to 923 K at the rate of 5 K/min, annealed at 923 K for one week and finally quenched in air. The products were powdered for 1 min in a vibrating mill under hexane and identified by X-ray diffraction (XRD). The samples for physical measurements were hot-pressed at 673 K and 70 MPa for 1 h. Compacted disc shaped samples (diameter 12 mm and thickness ca. 2 mm) reached ≥95% of the theoretical (X-ray) densities of the prepared compounds.\n",
    "Answer in table format:\n",
    "Base\t\tDopant\tDopant Category\tStartingTemp\tPrimary Ramp Time (h)\tPrimary Melt Temp (K)\tPrimary Melt Time (h)\tSecondary Ramp Time (h)\tSecondary Melt Temp (K)\tSecondary Melt Time (h)\tAnneal Temp (K)\tAnneal Time (h)\tCooling type (quench/room/furnace)\tDensification Technique\tDensification Time (min)\tDensification Temp (K)\tDensification Pressure (MPa)\tPost Annealing Temp (K)\tPost Annealing Time (h)\tComments\tPure Phase\n",
    "CuInTe2\t\tHg\tp-type\t298\t0\t298\t0\t10\t1173\t12\t923\t168\troom cooling\tHot Press\t60\t673\t70\t0\t0\t\tNo\n",
    "\n",
    "If the information is not provided, put NA. If there are multiple steps of a similar nature, report them as seperate processes in the same cell (for example, first heating as Heating1 and second heating as Heating2).\n",
    "Paragraph: ```{text}```\n",
    "\"\"\"\n",
    "response = get_completion(prompt)\n",
    "print(response)"
   ]
  },
  {
   "cell_type": "code",
   "execution_count": 13,
   "id": "28192514",
   "metadata": {
    "scrolled": false
   },
   "outputs": [
    {
     "name": "stdout",
     "output_type": "stream",
     "text": [
      "base compound: Cu1-xNixInTe2\n"
     ]
    }
   ],
   "source": [
    "#intuitive and reasoning prompt, sequentital prompt \n",
    "text = f\"\"\"\n",
    "Polycrystalline samples of the composition Cu1-xNixInTe2 with nominal x values between 0 and 0.05 were prepared utilizing solid-state reactions. Polycrystalline samples were synthesized from a mixture of pure elements and compounds, Cu (4 N shots), NiTe2 (synthesized), In (5 N ingot) and Te (5 N chunks). The synthesis of NiTe2 was carried out by heating stoichiometric mixtures of 5 N Ni and Te to 1273 K for 2 hours in evacuated quartz ampoules. This material was powdered and mixed with Cu, In and Te in the ratio corresponding to the stoichiometry Cu1-xNixInTe2 (x = 0, 0.005, 0.01, 0.015, 0.02, 0.03, 0.04 and 0.05). The synthesis of the polycrystalline products were carried out in evacuated (10^-3 Pa), sealed graphitized quartz ampoules. The ampoules were heated to 1173 K over 10 h, maintained at this temperature for 12 h, cooled to 923 K at the rate of 5 K/min, annealed at 923 K for one week and finally quenched in air. The products were powdered for 1 min in a vibrating mill under hexane and identified by X-ray diffraction (XRD). The samples for physical measurements were hot-pressed at 823 K and 70 MPa for 1 h. Compacted disc-shaped samples (diameter 12 mm and thickness ca 2 mm) reached ≥95% of theoretical (X-ray) densities of the prepared compounds. To reach the homogenous distribution of the dopant and to stabilize the physical properties, the hot-pressed samples were annealed in a sealed quartz ampule under an argon atmosphere at T=773 K for 5 days.\n",
    "\"\"\"\n",
    "prompt = f\"\"\"\n",
    "In the text delimited by triple backticks, what is the base compound? Just give the answer without sentence.\n",
    "```{text}```\n",
    "\"\"\"\n",
    "response = get_completion(prompt)\n",
    "print('base compound:', response)\n"
   ]
  },
  {
   "cell_type": "code",
   "execution_count": 15,
   "id": "0b1d497b",
   "metadata": {},
   "outputs": [
    {
     "name": "stdout",
     "output_type": "stream",
     "text": [
      "base compound: CuInTe2\n"
     ]
    }
   ],
   "source": [
    "#sequentital prompt with examples\n",
    "document = 'Polycrystalline samples of the composition CuIn1-xHgxTe2 with nominal x values between 0 and 0.21 have been prepared using a solid-state reaction. Polycrystalline samples were synthesized from mixtures of pure elements, Cu (4N shots), In (5N ingot), Hg (4N), and Te (5N chunks) all Sigma-Aldrich. The synthesis of polycrystalline products was carried out in evacuated sealed graphitized quartz ampoules. The ampoules were heated to 1173 K over 10 h, kept at this temperature for 12 h, cooled to 923 K at the rate of 5 K/min, annealed at 923 K for one week and finally quenched in air. The products were powdered for 1 min in a vibrating mill under hexane and identified by X-ray diffraction (XRD). The samples for physical measurements were hot-pressed at 673 K and 70 MPa for 1 h. Compacted disc shaped samples (diameter 12 mm and thickness ca. 2 mm) reached ≥95% of the theoretical (X-ray) densities of the prepared compounds.'\n",
    "prompt=f'''Answer the following question using the document provided in three \\\".\n",
    "If a particular piece of information is not present, output \\\"NA\\\".\n",
    "\n",
    "Example \n",
    "Document: Polycrystalline samples of the composition Cu1-xNixInTe2 with nominal x values between 0 and 0.05 were prepared utilizing solid-state reactions. Polycrystalline samples were synthesized from a mixture of pure elements and compounds, Cu (4 N shots), NiTe2 (synthesized), In (5 N ingot) and Te (5 N chunks). The synthesis of NiTe2 was carried out by heating stoichiometric mixtures of 5 N Ni and Te to 1273 K for 2 hours in evacuated quartz ampoules. This material was powdered and mixed with Cu, In and Te in the ratio corresponding to the stoichiometry Cu1-xNixInTe2 (x = 0, 0.005, 0.01, 0.015, 0.02, 0.03, 0.04 and 0.05). The synthesis of the polycrystalline products were carried out in evacuated (10^-3 Pa), sealed graphitized quartz ampoules. The ampoules were heated to 1173 K over 10 h, maintained at this temperature for 12 h, cooled to 923 K at the rate of 5 K/min, annealed at 923 K for one week and finally quenched in air. The products were powdered for 1 min in a vibrating mill under hexane and identified by X-ray diffraction (XRD). The samples for physical measurements were hot-pressed at 823 K and 70 MPa for 1 h. Compacted disc-shaped samples (diameter 12 mm and thickness ca 2 mm) reached ≥95% of theoretical (X-ray) densities of the prepared compounds. To reach the homogenous distribution of the dopant and to stabilize the physical properties, the hot-pressed samples were annealed in a sealed quartz ampule under an argon atmosphere at T=773 K for 5 days.\n",
    "Question: What is the base compound used in the experiment? Exclude dopant and do not inlude \\\"x\\\" when you mention the base compound.\n",
    "Answer: CuInTe2\n",
    "\n",
    "Document: \\\"\\\"\\\"{document}\\\"\\\"\\\"\\nQuestion: What is the base compound used in the experiment? Exclude dopant and do not inlude \\\"x\\\" when you mention the base compound. \\nAnswer: '''\n",
    "response = get_completion(prompt)\n",
    "print('base compound:', response)"
   ]
  }
 ],
 "metadata": {
  "kernelspec": {
   "display_name": "Python 3 (ipykernel)",
   "language": "python",
   "name": "python3"
  },
  "language_info": {
   "codemirror_mode": {
    "name": "ipython",
    "version": 3
   },
   "file_extension": ".py",
   "mimetype": "text/x-python",
   "name": "python",
   "nbconvert_exporter": "python",
   "pygments_lexer": "ipython3",
   "version": "3.9.12"
  }
 },
 "nbformat": 4,
 "nbformat_minor": 5
}
